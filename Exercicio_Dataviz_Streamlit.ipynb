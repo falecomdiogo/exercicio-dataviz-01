{
 "cells": [
  {
   "cell_type": "markdown",
   "id": "44fb345c",
   "metadata": {},
   "source": [
    "#   Exercício de DataViz Asimov Academy\n",
    "\n",
    "### Criação de dashboard simples utilizando Pandas, Streamlit e Plotly Express."
   ]
  },
  {
   "cell_type": "code",
   "execution_count": null,
   "id": "cff0ebdc",
   "metadata": {},
   "outputs": [],
   "source": [
    "# importando os pacotes\n",
    "\n",
    "import pandas as pd\n",
    "import streamlit as st\n",
    "import plotly.express as px\n"
   ]
  },
  {
   "cell_type": "code",
   "execution_count": null,
   "id": "7ebb811b",
   "metadata": {},
   "outputs": [],
   "source": [
    "# definindo o layout da página para wide\n",
    "\n",
    "st.set_page_config(layout='wide')\n"
   ]
  },
  {
   "cell_type": "code",
   "execution_count": null,
   "id": "aed62456",
   "metadata": {},
   "outputs": [],
   "source": [
    "# fazendo a leitura do DataSet \"Supermarket Sales\"\n",
    "# criando o dataframe e lendo as 5 primeiras linhas\n",
    "\n",
    "df = pd.read_csv('supermarket_sales.csv', sep=';', decimal=',')\n",
    "df.head(5)\n"
   ]
  },
  {
   "cell_type": "code",
   "execution_count": null,
   "id": "2d4eedac",
   "metadata": {},
   "outputs": [],
   "source": [
    "# deletando possíveis duplicatas\n",
    "\n",
    "df.drop_duplicates()"
   ]
  },
  {
   "cell_type": "code",
   "execution_count": null,
   "id": "3990715f",
   "metadata": {},
   "outputs": [],
   "source": [
    "# convertendo a coluna Date para datetime do Pandas\n",
    "\n",
    "df.Date = pd.to_datetime(df.Date)\n",
    "df = df.sort_values('Date')\n",
    "df.info()\n"
   ]
  },
  {
   "cell_type": "code",
   "execution_count": null,
   "id": "8e80904a",
   "metadata": {},
   "outputs": [],
   "source": [
    "# adicionando uma coluna de meses por ano em formato\n",
    "# string para podermos obter a visualização mensal\n",
    "\n",
    "df['Month'] = df['Date'].apply(lambda x: str(x.year) + str(x.month))\n"
   ]
  },
  {
   "cell_type": "code",
   "execution_count": null,
   "id": "c92a77fe",
   "metadata": {},
   "outputs": [],
   "source": [
    "# criando uma sidebar do Streamlit para filtrar os meses\n",
    "\n",
    "month = st.sidebar.selectbox('Mês', df['Month'].unique())\n",
    "\n",
    "# filtrando o df\n",
    "\n",
    "df_filter = df[df['Month'] == month]\n"
   ]
  },
  {
   "cell_type": "code",
   "execution_count": null,
   "id": "347c529a",
   "metadata": {},
   "outputs": [],
   "source": [
    "# criando as colunas do layout da pág. no Streamlit\n",
    "\n",
    "col1, col2 = st.columns(2) # duas colunas na parte superior\n",
    "col3, col4, col5 = st.columns(3) # três colunas na parte inferior da página\n"
   ]
  },
  {
   "cell_type": "markdown",
   "id": "193d8289",
   "metadata": {},
   "source": [
    "## Criando os gráficos com Plotly Express"
   ]
  },
  {
   "cell_type": "code",
   "execution_count": null,
   "id": "566ddf3c",
   "metadata": {},
   "outputs": [],
   "source": [
    "# gráfico de faturamento por unidade\n",
    "\n",
    "fig_date = px.bar(df_filter, x='Date', y='Total', color='City', title='Faturamento por unidade')\n",
    "col1.plotly_chart(fig_date, use_container_width=True) # endereçando o gráfico à coluna 1 dá pág.\n"
   ]
  },
  {
   "cell_type": "code",
   "execution_count": null,
   "id": "cbd40c8c",
   "metadata": {},
   "outputs": [],
   "source": [
    "# gráfico de faturamento por tipo de produto\n",
    "\n",
    "fig_prod = px.bar(df_filter, x='Date', y='Product line', color='City', title='Faturamento por tipo de produto', orientation='h')\n",
    "col2.plotly_chart(fig_prod, use_container_width=True) # endereçando o gráfico à coluna 2 dá pág."
   ]
  },
  {
   "cell_type": "code",
   "execution_count": null,
   "id": "3f135b1a",
   "metadata": {},
   "outputs": [],
   "source": [
    "# gráfico de faturamento por filial\n",
    "\n",
    "df_city = df_filter.groupby('City')[['Total']].sum().reset_index()\n",
    "fig_city = px.bar(df_city, x='City', y='Total', title='Faturamento por filial')\n",
    "col3.plotly_chart(fig_city, use_container_width=True) # endereçando o gráfico à coluna 3 dá pág."
   ]
  },
  {
   "cell_type": "code",
   "execution_count": null,
   "id": "b7f444cb",
   "metadata": {},
   "outputs": [],
   "source": [
    "# gráfico de faturamento por tipo de pagamento\n",
    "\n",
    "fig_pay = px.pie(df_filter, values='Total', names='Payment', title='Faturamento por tipo de pagamento')\n",
    "col4.plotly_chart(fig_pay, use_container_width=True) # endereçando o gráfico à coluna 4 dá pág."
   ]
  },
  {
   "cell_type": "code",
   "execution_count": null,
   "id": "7a85e621",
   "metadata": {},
   "outputs": [],
   "source": [
    "# gráfico de avaliação\n",
    "\n",
    "df_rank = df_filter.groupby('City')[['Rating']].mean().reset_index()\n",
    "fig_rank = px.bar(df_rank, x='Rating', y='City', title='Avaliação')\n",
    "col5.plotly_chart(fig_rank, use_container_width=True) # endereçando o gráfico à coluna 5 dá pág."
   ]
  },
  {
   "cell_type": "markdown",
   "id": "feef1d74",
   "metadata": {},
   "source": [
    "# FIM"
   ]
  }
 ],
 "metadata": {
  "kernelspec": {
   "display_name": "Python 3 (ipykernel)",
   "language": "python",
   "name": "python3"
  },
  "language_info": {
   "codemirror_mode": {
    "name": "ipython",
    "version": 3
   },
   "file_extension": ".py",
   "mimetype": "text/x-python",
   "name": "python",
   "nbconvert_exporter": "python",
   "pygments_lexer": "ipython3",
   "version": "3.11.7"
  }
 },
 "nbformat": 4,
 "nbformat_minor": 5
}
